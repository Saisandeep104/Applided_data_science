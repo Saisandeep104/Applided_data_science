{
 "cells": [
  {
   "cell_type": "markdown",
   "metadata": {},
   "source": [
    "---\n",
    "\n",
    "_You are currently looking at **version 1.1** of this notebook. To download notebooks and datafiles, as well as get help on Jupyter notebooks in the Coursera platform, visit the [Jupyter Notebook FAQ](https://www.coursera.org/learn/python-data-analysis/resources/0dhYG) course resource._\n",
    "\n",
    "---"
   ]
  },
  {
   "cell_type": "code",
   "execution_count": 1,
   "metadata": {
    "collapsed": true
   },
   "outputs": [],
   "source": [
    "import pandas as pd\n",
    "import numpy as np\n",
    "from scipy.stats import ttest_ind"
   ]
  },
  {
   "cell_type": "markdown",
   "metadata": {},
   "source": [
    "# Assignment 4 - Hypothesis Testing\n",
    "This assignment requires more individual learning than previous assignments - you are encouraged to check out the [pandas documentation](http://pandas.pydata.org/pandas-docs/stable/) to find functions or methods you might not have used yet, or ask questions on [Stack Overflow](http://stackoverflow.com/) and tag them as pandas and python related. And of course, the discussion forums are open for interaction with your peers and the course staff.\n",
    "\n",
    "Definitions:\n",
    "* A _quarter_ is a specific three month period, Q1 is January through March, Q2 is April through June, Q3 is July through September, Q4 is October through December.\n",
    "* A _recession_ is defined as starting with two consecutive quarters of GDP decline, and ending with two consecutive quarters of GDP growth.\n",
    "* A _recession bottom_ is the quarter within a recession which had the lowest GDP.\n",
    "* A _university town_ is a city which has a high percentage of university students compared to the total population of the city.\n",
    "\n",
    "**Hypothesis**: University towns have their mean housing prices less effected by recessions. Run a t-test to compare the ratio of the mean price of houses in university towns the quarter before the recession starts compared to the recession bottom. (`price_ratio=quarter_before_recession/recession_bottom`)\n",
    "\n",
    "The following data files are available for this assignment:\n",
    "* From the [Zillow research data site](http://www.zillow.com/research/data/) there is housing data for the United States. In particular the datafile for [all homes at a city level](http://files.zillowstatic.com/research/public/City/City_Zhvi_AllHomes.csv), ```City_Zhvi_AllHomes.csv```, has median home sale prices at a fine grained level.\n",
    "* From the Wikipedia page on college towns is a list of [university towns in the United States](https://en.wikipedia.org/wiki/List_of_college_towns#College_towns_in_the_United_States) which has been copy and pasted into the file ```university_towns.txt```.\n",
    "* From Bureau of Economic Analysis, US Department of Commerce, the [GDP over time](http://www.bea.gov/national/index.htm#gdp) of the United States in current dollars (use the chained value in 2009 dollars), in quarterly intervals, in the file ```gdplev.xls```. For this assignment, only look at GDP data from the first quarter of 2000 onward.\n",
    "\n",
    "Each function in this assignment below is worth 10%, with the exception of ```run_ttest()```, which is worth 50%."
   ]
  },
  {
   "cell_type": "code",
   "execution_count": 10,
   "metadata": {
    "collapsed": true
   },
   "outputs": [],
   "source": [
    "# Use this dictionary to map state names to two letter acronyms\n",
    "states = {'OH': 'Ohio', 'KY': 'Kentucky', 'AS': 'American Samoa', 'NV': 'Nevada', 'WY': 'Wyoming', 'NA': 'National', 'AL': 'Alabama', 'MD': 'Maryland', 'AK': 'Alaska', 'UT': 'Utah', 'OR': 'Oregon', 'MT': 'Montana', 'IL': 'Illinois', 'TN': 'Tennessee', 'DC': 'District of Columbia', 'VT': 'Vermont', 'ID': 'Idaho', 'AR': 'Arkansas', 'ME': 'Maine', 'WA': 'Washington', 'HI': 'Hawaii', 'WI': 'Wisconsin', 'MI': 'Michigan', 'IN': 'Indiana', 'NJ': 'New Jersey', 'AZ': 'Arizona', 'GU': 'Guam', 'MS': 'Mississippi', 'PR': 'Puerto Rico', 'NC': 'North Carolina', 'TX': 'Texas', 'SD': 'South Dakota', 'MP': 'Northern Mariana Islands', 'IA': 'Iowa', 'MO': 'Missouri', 'CT': 'Connecticut', 'WV': 'West Virginia', 'SC': 'South Carolina', 'LA': 'Louisiana', 'KS': 'Kansas', 'NY': 'New York', 'NE': 'Nebraska', 'OK': 'Oklahoma', 'FL': 'Florida', 'CA': 'California', 'CO': 'Colorado', 'PA': 'Pennsylvania', 'DE': 'Delaware', 'NM': 'New Mexico', 'RI': 'Rhode Island', 'MN': 'Minnesota', 'VI': 'Virgin Islands', 'NH': 'New Hampshire', 'MA': 'Massachusetts', 'GA': 'Georgia', 'ND': 'North Dakota', 'VA': 'Virginia'}"
   ]
  },
  {
   "cell_type": "code",
   "execution_count": 11,
   "metadata": {
    "collapsed": true,
    "umich_part_id": "021",
    "umich_partlist_id": "004"
   },
   "outputs": [],
   "source": [
    "def get_list_of_university_towns():\n",
    "    '''Returns a DataFrame of towns and the states they are in from the \n",
    "    university_towns.txt list. The format of the DataFrame should be:\n",
    "    DataFrame( [ [\"Michigan\", \"Ann Arbor\"], [\"Michigan\", \"Yipsilanti\"] ], \n",
    "    columns=[\"State\", \"RegionName\"]  )\n",
    "    \n",
    "    The following cleaning needs to be done:\n",
    "\n",
    "    1. For \"State\", removing characters from \"[\" to the end.\n",
    "    2. For \"RegionName\", when applicable, removing every character from \" (\" to the end.\n",
    "    3. Depending on how you read the data, you may need to remove newline character '\\n'. '''\n",
    "    colleges = open('university_towns.txt')\n",
    "    state =\"\"\n",
    "    region=\"\"\n",
    "    #rg = list()\n",
    "    data= pd.DataFrame(columns=[\"State\", \"RegionName\"])\n",
    "    #print(data)\n",
    "    for lines in colleges:\n",
    "        lines = lines.rstrip()\n",
    "        if \"[edit\" in lines:\n",
    "            state= lines.replace(\"[edit]\",\"\")\n",
    "        else:\n",
    "            #rg.append(lines)\n",
    "            region = lines\n",
    "            data = data.append({\"State\":state,\"RegionName\":region},ignore_index=True)\n",
    "    data['RegionName']=data['RegionName'].str.replace('\\s\\(.*','')\n",
    "    return data"
   ]
  },
  {
   "cell_type": "code",
   "execution_count": 12,
   "metadata": {
    "collapsed": true,
    "umich_part_id": "022",
    "umich_partlist_id": "004"
   },
   "outputs": [],
   "source": [
    "def get_recession_start():\n",
    "    '''Returns the year and quarter of the recession start time as a \n",
    "    string value in a format such as 2005q3'''\n",
    "    quater_wise = pd.read_excel('gdplev.xls',skiprows=5,index_col=6)\n",
    "    #quater_wise=quater_wise.reset_index()\n",
    "    #quater_wise=quater_wise.drop(['GDP in billions of current dollars','GDP in billions of chained 2009 dollars'])\n",
    "    quater_wise.columns.values.tolist()\n",
    "    quater_wise=quater_wise.drop(['Unnamed: 0','GDP in billions of current dollars','GDP in billions of chained 2009 dollars','Unnamed: 3','Unnamed: 7'],axis=1)\n",
    "    #quater_wise=quater_wise.reset_index\n",
    "    #quater_wise=quater_wise.drop([0,1])\n",
    "    quater_wise.drop(quater_wise.index[:2], inplace=True)\n",
    "    quater_wise.rename(columns={'Unnamed: 4':'quater'},inplace=True)\n",
    "    quater_wise.reset_index(inplace=True)\n",
    "    quater_wise.set_index('quater',inplace=True)\n",
    "    chained = quater_wise['GDP in billions of chained 2009 dollars.1']\n",
    "    start=chained.index.values.tolist().index(\"2000q1\")\n",
    "    end=start+5\n",
    "    for end in range(218,len(chained)):\n",
    "        if (chained[start]>chained[start+1]) and (chained[start+1]>chained[start+2]) and (chained[start+2]>chained[start+3]) and (chained[start+3]<chained[start+4]) and (chained[start+4]<chained[start+5]):\n",
    "            rec=chained[start:end]       \n",
    "        start += 1\n",
    "    return rec.index.values.tolist()[0]"
   ]
  },
  {
   "cell_type": "code",
   "execution_count": 13,
   "metadata": {
    "collapsed": true,
    "umich_part_id": "023",
    "umich_partlist_id": "004"
   },
   "outputs": [],
   "source": [
    "def get_recession_end():\n",
    "    '''Returns the year and quarter of the recession end time as a \n",
    "    string value in a format such as 2005q3'''\n",
    "    quater_wise = pd.read_excel('gdplev.xls',skiprows=5,index_col=6)\n",
    "    #quater_wise=quater_wise.reset_index()\n",
    "    #quater_wise=quater_wise.drop(['GDP in billions of current dollars','GDP in billions of chained 2009 dollars'])\n",
    "    quater_wise.columns.values.tolist()\n",
    "    quater_wise=quater_wise.drop(['Unnamed: 0','GDP in billions of current dollars','GDP in billions of chained 2009 dollars','Unnamed: 3','Unnamed: 7'],axis=1)\n",
    "    #quater_wise=quater_wise.reset_index\n",
    "    #quater_wise=quater_wise.drop([0,1])\n",
    "    quater_wise.drop(quater_wise.index[:2], inplace=True)\n",
    "    quater_wise.rename(columns={'Unnamed: 4':'quater'},inplace=True)\n",
    "    quater_wise.reset_index(inplace=True)\n",
    "    quater_wise.set_index('quater',inplace=True)\n",
    "    chained = quater_wise['GDP in billions of chained 2009 dollars.1']\n",
    "    start=chained.index.values.tolist().index(\"2000q1\")\n",
    "    end=start+5\n",
    "    for end in range(218,len(chained)):\n",
    "        if (chained[start]>chained[start+1]) and (chained[start+1]>chained[start+2]) and (chained[start+2]>chained[start+3]) and (chained[start+3]<chained[start+4]) and (chained[start+4]<chained[start+5]):\n",
    "            rec=chained[start:end]       \n",
    "        start += 1\n",
    "    return rec.index.values.tolist()[-1]"
   ]
  },
  {
   "cell_type": "code",
   "execution_count": 14,
   "metadata": {
    "collapsed": true,
    "umich_part_id": "024",
    "umich_partlist_id": "004"
   },
   "outputs": [],
   "source": [
    "def get_recession_bottom():\n",
    "    '''Returns the year and quarter of the recession bottom time as a \n",
    "    string value in a format such as 2005q3'''\n",
    "    quater_wise = pd.read_excel('gdplev.xls',skiprows=5,index_col=6)\n",
    "    #quater_wise=quater_wise.reset_index()\n",
    "    #quater_wise=quater_wise.drop(['GDP in billions of current dollars','GDP in billions of chained 2009 dollars'])\n",
    "    quater_wise.columns.values.tolist()\n",
    "    quater_wise=quater_wise.drop(['Unnamed: 0','GDP in billions of current dollars','GDP in billions of chained 2009 dollars','Unnamed: 3','Unnamed: 7'],axis=1)\n",
    "    #quater_wise=quater_wise.reset_index\n",
    "    #quater_wise=quater_wise.drop([0,1])\n",
    "    quater_wise.drop(quater_wise.index[:2], inplace=True)\n",
    "    quater_wise.rename(columns={'Unnamed: 4':'quater'},inplace=True)\n",
    "    quater_wise.reset_index(inplace=True)\n",
    "    quater_wise.set_index('quater',inplace=True)\n",
    "    chained = quater_wise['GDP in billions of chained 2009 dollars.1']\n",
    "    start=chained.index.values.tolist().index(\"2000q1\")\n",
    "    end=start+5\n",
    "    for end in range(218,len(chained)):\n",
    "        if (chained[start]>chained[start+1]) and (chained[start+1]>chained[start+2]) and (chained[start+2]>chained[start+3]) and (chained[start+3]<chained[start+4]) and (chained[start+4]<chained[start+5]):\n",
    "            rec=chained[start:end]       \n",
    "        start += 1\n",
    "    return rec.index.values.tolist()[-3]"
   ]
  },
  {
   "cell_type": "code",
   "execution_count": 15,
   "metadata": {
    "collapsed": true,
    "umich_part_id": "025",
    "umich_partlist_id": "004"
   },
   "outputs": [],
   "source": [
    "def convert_housing_data_to_quarters():\n",
    "    '''Converts the housing data to quarters and returns it as mean \n",
    "    values in a dataframe. This dataframe should be a dataframe with\n",
    "    columns for 2000q1 through 2016q3, and should have a multi-index\n",
    "    in the shape of [\"State\",\"RegionName\"].\n",
    "    \n",
    "    Note: Quarters are defined in the assignment description, they are\n",
    "    not arbitrary three month periods.\n",
    "    \n",
    "    The resulting dataframe should have 67 columns, and 10,730 rows.\n",
    "    '''\n",
    "    housing_data=pd.read_csv('City_Zhvi_AllHomes.csv')\n",
    "    #states #=pd.DataFrame(states,index=[0])\n",
    "    ls = list()\n",
    "    acro = list()\n",
    "    for s in housing_data['State']:\n",
    "        ls.append(states.get(s))\n",
    "    housing_data['State'] = ls\n",
    "    #list(housing_data.columns.values)\n",
    "    housing_data.drop([ '1996-04',\n",
    "     '1996-05',\n",
    "     '1996-06',\n",
    "     '1996-07',\n",
    "     '1996-08',\n",
    "     '1996-09',\n",
    "     '1996-10',\n",
    "     '1996-11',\n",
    "     '1996-12',\n",
    "     '1997-01',\n",
    "     '1997-02',\n",
    "     '1997-03',\n",
    "     '1997-04',\n",
    "     '1997-05',\n",
    "     '1997-06',\n",
    "     '1997-07',\n",
    "     '1997-08',\n",
    "     '1997-09',\n",
    "     '1997-10',\n",
    "     '1997-11',\n",
    "     '1997-12',\n",
    "     '1998-01',\n",
    "     '1998-02',\n",
    "     '1998-03',\n",
    "     '1998-04',\n",
    "     '1998-05',\n",
    "     '1998-06',\n",
    "     '1998-07',\n",
    "     '1998-08',\n",
    "     '1998-09',\n",
    "     '1998-10',\n",
    "     '1998-11',\n",
    "     '1998-12',\n",
    "     '1999-01',\n",
    "     '1999-02',\n",
    "     '1999-03',\n",
    "     '1999-04',\n",
    "     '1999-05',\n",
    "     '1999-06',\n",
    "     '1999-07',\n",
    "     '1999-08',\n",
    "     '1999-09',\n",
    "     '1999-10',\n",
    "     '1999-11',\n",
    "     '1999-12'],axis=1,inplace=True)\n",
    "    #list(housing_data.columns.values)\n",
    "    df = housing_data[['RegionID', 'RegionName','State','Metro','CountyName','SizeRank']]\n",
    "    df.set_index('RegionID',inplace=True)\n",
    "    housing_data.set_index(['State','RegionName'],inplace=True)\n",
    "    housing_data=housing_data.drop(['RegionID','Metro','CountyName','SizeRank'],axis=1)\n",
    "    housing_data=housing_data.groupby(pd.PeriodIndex(housing_data.columns,freq='Q'),axis=1).mean()\n",
    "    housing_data.columns = housing_data.columns.to_series().astype(str)\n",
    "    housing_data = housing_data.rename(columns=lambda x: str(x).lower())\n",
    "    return housing_data"
   ]
  },
  {
   "cell_type": "code",
   "execution_count": 16,
   "metadata": {
    "scrolled": true,
    "umich_part_id": "026",
    "umich_partlist_id": "004"
   },
   "outputs": [
    {
     "data": {
      "text/plain": [
       "(True, 0.0027240637047531249, 'university town')"
      ]
     },
     "execution_count": 16,
     "metadata": {},
     "output_type": "execute_result"
    }
   ],
   "source": [
    "def run_ttest():\n",
    "    '''First creates new data showing the decline or growth of housing prices\n",
    "    between the recession start and the recession bottom. Then runs a ttest\n",
    "    comparing the university town values to the non-university towns values, \n",
    "    return whether the alternative hypothesis (that the two groups are the same)\n",
    "    is true or not as well as the p-value of the confidence. \n",
    "    \n",
    "    Return the tuple (different, p, better) where different=True if the t-test is\n",
    "    True at a p<0.01 (we reject the null hypothesis), or different=False if \n",
    "    otherwise (we cannot reject the null hypothesis). The variable p should\n",
    "    be equal to the exact p value returned from scipy.stats.ttest_ind(). The\n",
    "    value for better should be either \"university town\" or \"non-university town\"\n",
    "    depending on which has a lower mean price ratio (which is equivilent to a\n",
    "    reduced market loss).'''\n",
    "    df=convert_housing_data_to_quarters()\n",
    "    #price_ratio= pd.DataFrame(df['2008Q2'].div(df['2009Q2']))\n",
    "    price_ratio =  pd.DataFrame({'ratio': df['2008q2'].div(df['2009q2'])})\n",
    "    # df = pd.concat([df, price_ratio], axis=1)\n",
    "    uni=get_list_of_university_towns()\n",
    "    uni_list=uni.to_records(index=False).tolist()\n",
    "    uni_town = price_ratio.loc[price_ratio.index.isin(uni_list)]\n",
    "    #uni_town = pd.to_numeric(uni_town['ratio'])\n",
    "    Non_uni_town=price_ratio.loc[~price_ratio.index.isin(uni_list)]\n",
    "    #Non_uni_town = pd.to_numeric(Non_uni_town['ratio'])\n",
    "    #uni_town['ratio']\n",
    "    a=ttest_ind(uni_town['ratio'], Non_uni_town['ratio'],nan_policy='omit')\n",
    "    pval=a.pvalue\n",
    "    b=uni_town['ratio'].mean()\n",
    "    c=Non_uni_town['ratio'].mean()\n",
    "    if b<c:\n",
    "        better = 'university town'\n",
    "    else:\n",
    "        better = 'non-university town'\n",
    "    difference = pval<0.01\n",
    "    d=(difference,pval,better)\n",
    "    #price_ratio\n",
    "    #Non_uni_town.shape    \n",
    "    return d"
   ]
  }
 ],
 "metadata": {
  "coursera": {
   "course_slug": "python-data-analysis",
   "graded_item_id": "Il9Fx",
   "launcher_item_id": "TeDW0",
   "part_id": "WGlun"
  },
  "kernelspec": {
   "display_name": "Python 3",
   "language": "python",
   "name": "python3"
  },
  "language_info": {
   "codemirror_mode": {
    "name": "ipython",
    "version": 3
   },
   "file_extension": ".py",
   "mimetype": "text/x-python",
   "name": "python",
   "nbconvert_exporter": "python",
   "pygments_lexer": "ipython3",
   "version": "3.6.2"
  },
  "umich": {
   "id": "Assignment 4",
   "version": "1.1"
  }
 },
 "nbformat": 4,
 "nbformat_minor": 1
}
